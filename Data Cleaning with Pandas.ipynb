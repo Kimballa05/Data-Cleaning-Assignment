{
 "cells": [
  {
   "cell_type": "code",
   "execution_count": 44,
   "id": "584227e9",
   "metadata": {},
   "outputs": [],
   "source": [
    "#%% Libraries\n",
    "import pandas as pd\n",
    "import matplotlib.pyplot as plt #Be sure to run this cell so that everything is imported and variables are defined\n",
    "import numpy as np\n",
    "#%% Importing Data\n",
    "flights_data = pd.read_csv('flights.csv') #Be sure flights.csv is in same directory\n",
    "flights_data.head(10)\n",
    "weather_data_pd = pd.read_csv('weather.csv') #Be sure weather.csv is in same directory\n",
    "weather_data_np = weather_data_pd.to_numpy()\n",
    "#%% Pandas Data Filtering/Sorting Question Answering\n",
    "#use flights_data\n",
    "\n"
   ]
  },
  {
   "cell_type": "code",
   "execution_count": 45,
   "id": "80433b18",
   "metadata": {},
   "outputs": [
    {
     "name": "stdout",
     "output_type": "stream",
     "text": [
      "Number of flights from JFK to SLC: 2113\n"
     ]
    }
   ],
   "source": [
    "#Question 1 How many flights were there from JFK to SLC? Int\n",
    "\n",
    "q_1 = flights_data.loc[(flights_data['origin'] == 'JFK') & (flights_data['dest'] == 'SLC')] #Creates dataframe q_1 from flights_data df that only includes origin values 'JFK' and dest values 'SLC'.\n",
    "print(\"Number of flights from JFK to SLC:\",len(q_1.index)) #Caculates the number of flights using the length of the index of q_1 dataframe"
   ]
  },
  {
   "cell_type": "code",
   "execution_count": 46,
   "id": "34327fe5",
   "metadata": {},
   "outputs": [
    {
     "name": "stdout",
     "output_type": "stream",
     "text": [
      "Number of airlines that fly to SLC: 2\n"
     ]
    }
   ],
   "source": [
    "#Question 2 How many airlines fly to SLC? Should be int\n",
    "\n",
    "q_2 = flights_data.loc[flights_data['dest'] == 'SLC'] #Create dataframe only including 'SLC' values for dest column\n",
    "print(\"Number of airlines that fly to SLC:\",len(q_2['carrier'].unique().tolist())) #Grabs unique values from carrier column, puts it in a list, then get the length of list to get the number of airlines."
   ]
  },
  {
   "cell_type": "code",
   "execution_count": 47,
   "id": "d89fe2f9",
   "metadata": {},
   "outputs": [
    {
     "name": "stdout",
     "output_type": "stream",
     "text": [
      "Average arrival delay for flights to RDU: 10.052\n"
     ]
    }
   ],
   "source": [
    "#Question 3 What is the average arrival delay for flights to RDU? float\n",
    "\n",
    "q_3 = flights_data.loc[flights_data['dest'] == 'RDU'] #Create dataframe only including 'RDU' values for dest column\n",
    "q_3_mean = q_3['arr_delay'].mean() #Calculate the average arrival delay using the mean() method.\n",
    "print(\"Average arrival delay for flights to RDU:\",round(q_3_mean,3)) #Print the average arrival delay, rounded to nearest 1/1000"
   ]
  },
  {
   "cell_type": "code",
   "execution_count": 48,
   "id": "14ef249f",
   "metadata": {},
   "outputs": [
    {
     "name": "stdout",
     "output_type": "stream",
     "text": [
      "Proportion of flights to SEA from JFK and LGA (%): 53.33\n"
     ]
    }
   ],
   "source": [
    "#Question 4 What proportion of flights to SEA come from the two NYC \n",
    "#airports (LGA and JFK)?  float\n",
    "\n",
    "q_4 = flights_data.loc[flights_data['dest'] == 'SEA'] #Create dataframe only including 'SEA' values for dest column\n",
    "total_flights = len(q_4.index) #Integer value of the total flights going to Seattle\n",
    "\n",
    "flight_count = 0 #iterating count for the for loop\n",
    "for value_name in q_4['origin'].values: #For loop iterating through origin column values. \n",
    "    if value_name == 'JFK' or value_name == 'LGA': #If 'JFK' or 'LGA' is found, flight_count iterator will increase\n",
    "        flight_count += 1\n",
    "\n",
    "#Prints the proportion of flights from the two airports, given as a percentage and rounded to nearest 1/100\n",
    "print(\"Proportion of flights to SEA from JFK and LGA (%):\",round((flight_count/(total_flights))*100,2))"
   ]
  },
  {
   "cell_type": "code",
   "execution_count": 49,
   "id": "c4a303bd",
   "metadata": {},
   "outputs": [
    {
     "name": "stdout",
     "output_type": "stream",
     "text": [
      "          dep_delay\n",
      "Date               \n",
      "2013/3/8  83.536921\n"
     ]
    }
   ],
   "source": [
    "#Question 5 Which date has the largest average depature delay? Pd slice \n",
    "#with date and float\n",
    "#please make date a column. Preferred format is 2013/1/1 (y/m/d)\n",
    "\n",
    "#This commented out code inserted a \"Date\" column with incomplete data\n",
    "#flights_data.insert(4,\"Date\",flights_data['year'].values)\n",
    "\n",
    "#In the 'Date' column, the apply method used a lambda function essentially taking the converted string\n",
    "#values from the 'year', 'month', and 'day' columns and concatenated them and added them to the 'Date' column. The\n",
    "#axis=1 parameter ensures that it's the rows that are being changed.\n",
    "flights_data['Date'] = flights_data.apply(lambda row: str(row.year) + \"/\" + str(row.month) + \"/\" + str(row.day), axis=1)\n",
    "\n",
    "#Creates a shortened dataframe including only 'Date' and 'dep_delay' values\n",
    "q_5 = flights_data.loc[:,['Date','dep_delay']]\n",
    "\n",
    "#Creates another dataframe that's grouped by 'Date' values and calculates the departure delay mean based off the dates\n",
    "grouped_q_5 = q_5.groupby(['Date']).mean()\n",
    "\n",
    "#The boolean expression is there to check which index satisfies the condition of highest departure delay average,\n",
    "#then prints the row. Note: This cell takes a while to run, possibly due to the apply function, but it will execute the code.\n",
    "print(grouped_q_5[grouped_q_5['dep_delay']==grouped_q_5['dep_delay'].max()])\n"
   ]
  },
  {
   "cell_type": "code",
   "execution_count": 50,
   "id": "84c601f4",
   "metadata": {},
   "outputs": [
    {
     "name": "stdout",
     "output_type": "stream",
     "text": [
      "          arr_delay\n",
      "Date               \n",
      "2013/3/8  85.862155\n"
     ]
    }
   ],
   "source": [
    "#Question 6 Which date has the largest average arrival delay? pd slice \n",
    "#with date and float\n",
    "\n",
    "#Creates a shortened dataframe containing only 'Date' and 'arr_delay' values\n",
    "q_6 = flights_data.loc[:,['Date','arr_delay']]\n",
    "\n",
    "#Creates another dataframe that's grouped by 'Date' values and calculates the arrival delay mean based off the dates\n",
    "grouped_q_6 = q_6.groupby(['Date']).mean()\n",
    "\n",
    "#The boolean expression is there to check which index satisfies the condition of highest arrival delay average,\n",
    "#then prints the row.\n",
    "print(grouped_q_6[grouped_q_6['arr_delay']==grouped_q_6['arr_delay'].max()])"
   ]
  },
  {
   "cell_type": "code",
   "execution_count": 51,
   "id": "62eb5b23",
   "metadata": {},
   "outputs": [
    {
     "name": "stdout",
     "output_type": "stream",
     "text": [
      "       tailnum origin  air_time  distance      speed\n",
      "216447  N666DN    LGA      65.0       762  11.723077\n"
     ]
    }
   ],
   "source": [
    "#Question 7 Which flight departing LGA or JFK in 2013 flew the fastest? pd \n",
    "#slice with tailnumber and speed\n",
    "#speed = distance/airtime\n",
    "\n",
    "#Create a dataframe only including 'JFK' and 'LGA' values in the origin column\n",
    "q_7 = flights_data.loc[(flights_data['origin'] == 'JFK') | (flights_data['origin'] == 'LGA')]\n",
    "\n",
    "#Slice the dataframe so that it only contains the four relevant columns\n",
    "q_7 = q_7.loc[:,['tailnum','origin','air_time','distance']]\n",
    "\n",
    "#Create a new 'speed' column, applying the values from distance and air_time to make the speed values\n",
    "q_7['speed'] = q_7.apply(lambda row: row.distance / row.air_time, axis=1)\n",
    "\n",
    "#Print out the row containing the max speed in the dataframe. Again, this cell takes a little longer to execute \n",
    "#but it will run\n",
    "print(q_7[q_7['speed']==q_7['speed'].max()])"
   ]
  },
  {
   "cell_type": "code",
   "execution_count": 52,
   "id": "b98d63fa",
   "metadata": {},
   "outputs": [
    {
     "name": "stdout",
     "output_type": "stream",
     "text": [
      "      Unnamed: 0 origin  year  month   day  hour   temp   dewp  humid  \\\n",
      "0              1    EWR  2013    1.0   1.0   0.0  37.04  21.92  53.97   \n",
      "1              2    EWR  2013    1.0   1.0   1.0  37.04  21.92  53.97   \n",
      "2              3    EWR  2013    1.0   1.0   2.0  37.94  21.92  52.09   \n",
      "3              4    EWR  2013    1.0   1.0   3.0  37.94  23.00  54.51   \n",
      "4              5    EWR  2013    1.0   1.0   4.0  37.94  24.08  57.04   \n",
      "...          ...    ...   ...    ...   ...   ...    ...    ...    ...   \n",
      "8714        8715    JFK  2013    9.0   2.0  20.0  75.20  73.40  94.14   \n",
      "8715        8716    JFK  2013   10.0  23.0  10.0  48.92  39.02  68.51   \n",
      "8716        8717    JFK  2013   10.0  23.0  11.0  48.92  39.02  68.51   \n",
      "8717        8718    JFK  2013   12.0  17.0   5.0  26.96  10.94  50.34   \n",
      "8718        8719    LGA  2013    8.0  22.0  22.0  75.92  66.92  73.68   \n",
      "\n",
      "      wind_dir  wind_speed  wind_gust  precip  pressure  visib  \n",
      "0        230.0    10.35702  11.918651     0.0    1013.9   10.0  \n",
      "1        230.0    13.80936  15.891535     0.0    1013.0   10.0  \n",
      "2        230.0    12.65858  14.567241     0.0    1012.6   10.0  \n",
      "3        230.0    13.80936  15.891535     0.0    1012.7   10.0  \n",
      "4        240.0    14.96014  17.215830     0.0    1012.8   10.0  \n",
      "...        ...         ...        ...     ...       ...    ...  \n",
      "8714     200.0     4.60312   5.297178     0.0       0.0    4.0  \n",
      "8715      60.0     4.60312   5.297178     0.0    1008.1   10.0  \n",
      "8716      40.0     4.60312   5.297178     0.0    1008.5   10.0  \n",
      "8717      40.0     4.60312   5.297178     0.0    1023.9   10.0  \n",
      "8718     210.0     8.05546   9.270062     0.0    1011.9   10.0  \n",
      "\n",
      "[8719 rows x 15 columns]\n"
     ]
    }
   ],
   "source": [
    "#Question 8 Replace all nans in the weather pd dataframe with 0s. Pd with \n",
    "#no nans\n",
    "\n",
    "#Apply the fillna function so that all nans in the weather pd dataframe are replaced with 0.\n",
    "q_8 = weather_data_pd.fillna(0)\n",
    "\n",
    "#Prints the dataframe with nans replaced with 0s. Compare with original weather_data_pd to check if it worked correctly.\n",
    "print(q_8)"
   ]
  },
  {
   "cell_type": "code",
   "execution_count": 53,
   "id": "6d475d5d",
   "metadata": {},
   "outputs": [
    {
     "name": "stdout",
     "output_type": "stream",
     "text": [
      "Number of observations made in February: 671\n"
     ]
    }
   ],
   "source": [
    "#%% Numpy Data Filtering/Sorting Question Answering\n",
    "#Use weather_data_np\n",
    "#Question 9 How many observations were made in Feburary? Int\n",
    "\n",
    "#Filtered the array so that it only includes rows where the month column is equal to 2, which is February.\n",
    "q_9 = weather_data_np[weather_data_np[:, 3] == 2]\n",
    "\n",
    "#Using the shape method, prints the number of observations by printing the number of rows, found in index 0 of .shape output.\n",
    "print(\"Number of observations made in February:\",q_9.shape[0])"
   ]
  },
  {
   "cell_type": "code",
   "execution_count": 54,
   "id": "b5f480cc",
   "metadata": {},
   "outputs": [
    {
     "name": "stdout",
     "output_type": "stream",
     "text": [
      "Mean for humidity in February: 62.92\n"
     ]
    }
   ],
   "source": [
    "#Question 10 What was the mean for humidity in February? Float\\\n",
    "\n",
    "#column index for humidity is 8\n",
    "\n",
    "#Filtered array so it only includes February data\n",
    "q_10 = weather_data_np[weather_data_np[:,3] == 2]\n",
    "\n",
    "#Further slice the array so that it's just a 1D array of just the humidity values\n",
    "q_10_humidity = q_10[:,8]\n",
    "\n",
    "#Used the mean method to calculate the mean of the humidity array\n",
    "q_10_mean = np.mean(q_10_humidity, dtype = np.float64)\n",
    "\n",
    "#Print the humidity mean rounded to the nearest 1/100\n",
    "print(\"Mean for humidity in February:\",round(q_10_mean,2))"
   ]
  },
  {
   "cell_type": "code",
   "execution_count": 55,
   "id": "8a0bf294",
   "metadata": {},
   "outputs": [
    {
     "name": "stdout",
     "output_type": "stream",
     "text": [
      "Standard deviation for humidity in February: 20.34\n"
     ]
    }
   ],
   "source": [
    "#Question 11 What was the std for humidity in February? Float\n",
    "\n",
    "#column index for humidity is 8\n",
    "\n",
    "#Filtered array so it only includes February data\n",
    "q_11 = weather_data_np[weather_data_np[:,3] == 2]\n",
    "\n",
    "#Further slice the array so that it's just a 1D array of just the humidity values\n",
    "q_11_humidity = q_11[:,8]\n",
    "\n",
    "#Used the std method to calculate the standard deviation of the humidity array\n",
    "q_11_std = np.std(q_11_humidity, dtype = np.float64)\n",
    "\n",
    "#Print the humidity std rounded to the nearest 1/100\n",
    "print(\"Standard deviation for humidity in February:\",round(q_11_std,2))"
   ]
  },
  {
   "cell_type": "code",
   "execution_count": null,
   "id": "b8689df2",
   "metadata": {},
   "outputs": [],
   "source": []
  }
 ],
 "metadata": {
  "kernelspec": {
   "display_name": "Python 3",
   "language": "python",
   "name": "python3"
  },
  "language_info": {
   "codemirror_mode": {
    "name": "ipython",
    "version": 3
   },
   "file_extension": ".py",
   "mimetype": "text/x-python",
   "name": "python",
   "nbconvert_exporter": "python",
   "pygments_lexer": "ipython3",
   "version": "3.8.8"
  }
 },
 "nbformat": 4,
 "nbformat_minor": 5
}
